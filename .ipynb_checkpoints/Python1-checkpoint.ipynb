{
 "cells": [
  {
   "cell_type": "code",
   "execution_count": 1,
   "metadata": {
    "collapsed": true
   },
   "outputs": [],
   "source": [
    "import csv as csv\n",
    "import numpy as np"
   ]
  },
  {
   "cell_type": "code",
   "execution_count": 4,
   "metadata": {
    "collapsed": false
   },
   "outputs": [],
   "source": [
    "# Open up the csv file in to a Python object\n",
    "csv_file = csv.reader(open('train.csv', 'rb'))"
   ]
  },
  {
   "cell_type": "code",
   "execution_count": 5,
   "metadata": {
    "collapsed": false
   },
   "outputs": [
    {
     "name": "stdout",
     "output_type": "stream",
     "text": [
      "['PassengerId', 'Survived', 'Pclass', 'Name', 'Sex', 'Age', 'SibSp', 'Parch', 'Ticket', 'Fare', 'Cabin', 'Embarked']\n"
     ]
    }
   ],
   "source": [
    "header = csv_file.next()\n",
    "print header"
   ]
  },
  {
   "cell_type": "code",
   "execution_count": 6,
   "metadata": {
    "collapsed": false
   },
   "outputs": [
    {
     "name": "stdout",
     "output_type": "stream",
     "text": [
      "[['1' '0' '3' 'Braund, Mr. Owen Harris' 'male' '22' '1' '0' 'A/5 21171'\n",
      "  '7.25' '' 'S']\n",
      " ['2' '1' '1' 'Cumings, Mrs. John Bradley (Florence Briggs Thayer)'\n",
      "  'female' '38' '1' '0' 'PC 17599' '71.2833' 'C85' 'C']\n",
      " ['3' '1' '3' 'Heikkinen, Miss. Laina' 'female' '26' '0' '0'\n",
      "  'STON/O2. 3101282' '7.925' '' 'S']\n",
      " ['4' '1' '1' 'Futrelle, Mrs. Jacques Heath (Lily May Peel)' 'female' '35'\n",
      "  '1' '0' '113803' '53.1' 'C123' 'S']\n",
      " ['5' '0' '3' 'Allen, Mr. William Henry' 'male' '35' '0' '0' '373450'\n",
      "  '8.05' '' 'S']]\n"
     ]
    }
   ],
   "source": [
    "data = []\n",
    "for row in csv_file:\n",
    "    data.append(row)\n",
    "data = np.array(data)\n",
    "print data[:5]"
   ]
  },
  {
   "cell_type": "code",
   "execution_count": 8,
   "metadata": {
    "collapsed": false
   },
   "outputs": [
    {
     "name": "stdout",
     "output_type": "stream",
     "text": [
      "['1' '0' '3' 'Braund, Mr. Owen Harris' 'male' '22' '1' '0' 'A/5 21171'\n",
      " '7.25' '' 'S']\n",
      "['891' '0' '3' 'Dooley, Mr. Patrick' 'male' '32' '0' '0' '370376' '7.75' ''\n",
      " 'Q']\n",
      "Braund, Mr. Owen Harris\n"
     ]
    }
   ],
   "source": [
    "print data[0]\n",
    "print data[-1]\n",
    "print data[0,3]"
   ]
  },
  {
   "cell_type": "code",
   "execution_count": 12,
   "metadata": {
    "collapsed": false
   },
   "outputs": [
    {
     "name": "stdout",
     "output_type": "stream",
     "text": [
      "891\n",
      "342.0\n",
      "2.60526315789\n"
     ]
    }
   ],
   "source": [
    "number_passengers = np.size(data[0::,1].astype(float))\n",
    "number_survived = np.sum(data[0::,1].astype(float))\n",
    "proportion_survivors = number_passengers / number_survived\n",
    "\n",
    "print number_passengers\n",
    "print number_survived\n",
    "print proportion_survivors"
   ]
  },
  {
   "cell_type": "code",
   "execution_count": 13,
   "metadata": {
    "collapsed": true
   },
   "outputs": [],
   "source": [
    "femaleStats = data[0::,4] == 'female'\n",
    "maleStats = data[0::,4] != 'female'"
   ]
  },
  {
   "cell_type": "code",
   "execution_count": 16,
   "metadata": {
    "collapsed": false
   },
   "outputs": [],
   "source": [
    "womenOnboard = data[femaleStats, 1].astype(np.float)\n",
    "menOnboard = data[maleStats, 1].astype(np.float)"
   ]
  },
  {
   "cell_type": "code",
   "execution_count": 18,
   "metadata": {
    "collapsed": false
   },
   "outputs": [
    {
     "name": "stdout",
     "output_type": "stream",
     "text": [
      "0.742038216561\n",
      "0.188908145581\n"
     ]
    }
   ],
   "source": [
    "femaleProportion = np.sum(womenOnboard) / np.size(womenOnboard)\n",
    "maleProportion = np.sum(menOnboard) / np.size(menOnboard)\n",
    "\n",
    "print femaleProportion\n",
    "print maleProportion"
   ]
  },
  {
   "cell_type": "code",
   "execution_count": null,
   "metadata": {
    "collapsed": true
   },
   "outputs": [],
   "source": []
  }
 ],
 "metadata": {
  "kernelspec": {
   "display_name": "Python 2",
   "language": "python",
   "name": "python2"
  },
  "language_info": {
   "codemirror_mode": {
    "name": "ipython",
    "version": 2
   },
   "file_extension": ".py",
   "mimetype": "text/x-python",
   "name": "python",
   "nbconvert_exporter": "python",
   "pygments_lexer": "ipython2",
   "version": "2.7.10"
  }
 },
 "nbformat": 4,
 "nbformat_minor": 0
}
